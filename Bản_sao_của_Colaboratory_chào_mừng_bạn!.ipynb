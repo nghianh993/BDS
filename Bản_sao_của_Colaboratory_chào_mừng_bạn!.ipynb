{
  "cells": [
    {
      "cell_type": "markdown",
      "metadata": {
        "id": "view-in-github",
        "colab_type": "text"
      },
      "source": [
        "<a href=\"https://colab.research.google.com/github/nghianh993/BDS/blob/master/B%E1%BA%A3n_sao_c%E1%BB%A7a_Colaboratory_ch%C3%A0o_m%E1%BB%ABng_b%E1%BA%A1n!.ipynb\" target=\"_parent\"><img src=\"https://colab.research.google.com/assets/colab-badge.svg\" alt=\"Open In Colab\"/></a>"
      ]
    },
    {
      "cell_type": "markdown",
      "source": [
        "# DE"
      ],
      "metadata": {
        "id": "CYfnne5HMxRc"
      }
    },
    {
      "cell_type": "code",
      "source": [
        "import numpy as np\n",
        "from datetime import datetime, timedelta\n",
        "from tensorflow.keras.models import Sequential\n",
        "from tensorflow.keras.layers import LSTM, Dense, Dropout\n",
        "\n",
        "# Dữ liệu mẫu\n",
        "data = [[\"2023-12-13\",[\"91706\",\"82736\",\"43914\",\"21410\",\"62100\",\"28841\",\"54653\",\"02003\",\"00059\",\"46346\",\"3044\",\"7942\",\"3115\",\"2346\",\"2092\",\"6475\",\"3946\",\"3685\",\"3452\",\"1207\",\"346\",\"956\",\"814\",\"55\",\"83\",\"76\",\"44\"]],\n",
        "        [\"2023-12-12\",[\"62970\",\"39467\",\"40628\",\"04048\",\"85828\",\"50051\",\"17798\",\"87941\",\"64115\",\"64474\",\"6711\",\"8324\",\"0621\",\"5607\",\"1058\",\"6146\",\"6328\",\"5593\",\"5917\",\"7918\",\"954\",\"545\",\"397\",\"63\",\"29\",\"28\",\"51\"]],\n",
        "        [\"2023-12-11\",[\"38038\",\"02475\",\"03846\",\"53934\",\"90956\",\"89781\",\"13882\",\"01561\",\"73501\",\"93779\",\"8318\",\"6981\",\"8615\",\"9513\",\"8328\",\"3837\",\"0107\",\"9532\",\"9879\",\"1742\",\"729\",\"766\",\"938\",\"85\",\"12\",\"33\",\"48\"]]]\n",
        "\n",
        "# Chuyển đổi dữ liệu thành mảng có hình dạng (số lượng mẫu, timesteps, features)\n",
        "timesteps = 3  # Số lượng ngày liên tiếp\n",
        "features = 27  # Số lượng số lựa chọn trong xổ số\n",
        "num_samples = len(data)\n",
        "\n",
        "X = np.zeros((num_samples, timesteps, features))\n",
        "y = np.zeros((num_samples, 1))\n",
        "for i, sample in enumerate(data):\n",
        "    numbers = sample[1]\n",
        "    date_str = sample[0]\n",
        "    date = datetime.strptime(date_str, \"%Y-%m-%d\")\n",
        "    for j in range(timesteps):\n",
        "        prev_date = date - timedelta(days=j)\n",
        "        prev_date_str = prev_date.strftime(\"%Y-%m-%d\")\n",
        "        for k in range(features):\n",
        "            if prev_date_str == date_str and j < len(numbers):\n",
        "                X[i, j, k] = int(numbers[j][k])\n",
        "    # Lưu trữ kết quả xổ số (số cuối cùng trong danh sách số)\n",
        "    y[i] = int(numbers[-1])\n",
        "\n",
        "# Chuẩn hóa dữ liệu\n",
        "X = X / 100000.0  # Chuẩn hóa các số lựa chọn trong khoảng từ 0 đến 1\n",
        "y = y / 100000.0\n",
        "\n",
        "# Tạo mô hình\n",
        "model = Sequential()\n",
        "model.add(LSTM(128, input_shape=(timesteps, features), return_sequences=True))\n",
        "model.add(Dropout(0.2))\n",
        "model.add(LSTM(64, return_sequences=True))\n",
        "model.add(Dropout(0.2))\n",
        "model.add(LSTM(32, return_sequences=True))\n",
        "model.add(Dropout(0.2))\n",
        "model.add(LSTM(16))\n",
        "model.add(Dropout(0.2))\n",
        "model.add(Dense(1, activation='sigmoid'))\n",
        "\n",
        "# Biên dịch mô hình\n",
        "model.compile(loss='mean_squared_error', optimizer='adam')\n",
        "\n",
        "# Huấn luyện mô hình\n",
        "model.fit(X, y, epochs=100, batch_size=32, verbose=1)\n",
        "\n",
        "# Dự đoán kết quả\n",
        "X_prediction = X[-1:]  # Dữ liệu dự đoán là mẫu cuối cùng trong tập huấn luyện\n",
        "predicted_numbers = model.predict(X_prediction)\n",
        "predicted_numbers = predicted_numbers * 100000\n",
        "\n",
        "print(\"Kết quả dự đoán xổ số:\", predicted_numbers[0][0])"
      ],
      "metadata": {
        "colab": {
          "base_uri": "https://localhost:8080/",
          "height": 211
        },
        "id": "a23LwnkDM2ks",
        "outputId": "e10e7225-b402-475f-b617-bab8d3dcc8b7"
      },
      "execution_count": null,
      "outputs": [
        {
          "output_type": "error",
          "ename": "IndexError",
          "evalue": "string index out of range",
          "traceback": [
            "\u001b[0;31m---------------------------------------------------------------------------\u001b[0m",
            "\u001b[0;31mIndexError\u001b[0m                                Traceback (most recent call last)",
            "\u001b[0;32m<ipython-input-1-88218d09b4d6>\u001b[0m in \u001b[0;36m<cell line: 18>\u001b[0;34m()\u001b[0m\n\u001b[1;32m     25\u001b[0m         \u001b[0;32mfor\u001b[0m \u001b[0mk\u001b[0m \u001b[0;32min\u001b[0m \u001b[0mrange\u001b[0m\u001b[0;34m(\u001b[0m\u001b[0mfeatures\u001b[0m\u001b[0;34m)\u001b[0m\u001b[0;34m:\u001b[0m\u001b[0;34m\u001b[0m\u001b[0;34m\u001b[0m\u001b[0m\n\u001b[1;32m     26\u001b[0m             \u001b[0;32mif\u001b[0m \u001b[0mprev_date_str\u001b[0m \u001b[0;34m==\u001b[0m \u001b[0mdate_str\u001b[0m \u001b[0;32mand\u001b[0m \u001b[0mj\u001b[0m \u001b[0;34m<\u001b[0m \u001b[0mlen\u001b[0m\u001b[0;34m(\u001b[0m\u001b[0mnumbers\u001b[0m\u001b[0;34m)\u001b[0m\u001b[0;34m:\u001b[0m\u001b[0;34m\u001b[0m\u001b[0;34m\u001b[0m\u001b[0m\n\u001b[0;32m---> 27\u001b[0;31m                 \u001b[0mX\u001b[0m\u001b[0;34m[\u001b[0m\u001b[0mi\u001b[0m\u001b[0;34m,\u001b[0m \u001b[0mj\u001b[0m\u001b[0;34m,\u001b[0m \u001b[0mk\u001b[0m\u001b[0;34m]\u001b[0m \u001b[0;34m=\u001b[0m \u001b[0mint\u001b[0m\u001b[0;34m(\u001b[0m\u001b[0mnumbers\u001b[0m\u001b[0;34m[\u001b[0m\u001b[0mj\u001b[0m\u001b[0;34m]\u001b[0m\u001b[0;34m[\u001b[0m\u001b[0mk\u001b[0m\u001b[0;34m]\u001b[0m\u001b[0;34m)\u001b[0m\u001b[0;34m\u001b[0m\u001b[0;34m\u001b[0m\u001b[0m\n\u001b[0m\u001b[1;32m     28\u001b[0m     \u001b[0;31m# Lưu trữ kết quả xổ số (số cuối cùng trong danh sách số)\u001b[0m\u001b[0;34m\u001b[0m\u001b[0;34m\u001b[0m\u001b[0m\n\u001b[1;32m     29\u001b[0m     \u001b[0my\u001b[0m\u001b[0;34m[\u001b[0m\u001b[0mi\u001b[0m\u001b[0;34m]\u001b[0m \u001b[0;34m=\u001b[0m \u001b[0mint\u001b[0m\u001b[0;34m(\u001b[0m\u001b[0mnumbers\u001b[0m\u001b[0;34m[\u001b[0m\u001b[0;34m-\u001b[0m\u001b[0;36m1\u001b[0m\u001b[0;34m]\u001b[0m\u001b[0;34m)\u001b[0m\u001b[0;34m\u001b[0m\u001b[0;34m\u001b[0m\u001b[0m\n",
            "\u001b[0;31mIndexError\u001b[0m: string index out of range"
          ]
        }
      ]
    },
    {
      "cell_type": "markdown",
      "source": [
        "# LO"
      ],
      "metadata": {
        "id": "nG1yIJv1M3Yi"
      }
    },
    {
      "cell_type": "code",
      "source": [
        "import requests\n",
        "import numpy as np\n",
        "from datetime import datetime, timedelta\n",
        "from tensorflow.keras.models import Sequential\n",
        "from tensorflow.keras.layers import LSTM, Dense\n",
        "from google.colab import drive\n",
        "import pickle\n",
        "drive.mount('/content/drive')\n",
        "model_path = '/content/drive/MyDrive/AIKQXS.pkl'\n",
        "url = \"https://rongbachkim.com\"\n",
        "now = datetime.now()\n",
        "data = []\n",
        "minusDay = 300\n",
        "next_date = now + timedelta(days=minusDay)\n",
        "for number in range(1, 3):\n",
        "    next_date = next_date - timedelta(days=minusDay)\n",
        "    # Gửi yêu cầu HTTP đến API và nhận dữ liệu JSON\n",
        "    response = requests.get(url + '/ketqua.php?getkq&ngay=' + next_date.strftime(\"%Y-%m-%d\") + '&days='+ str(minusDay) +'&wday=0')\n",
        "    data = data + response.json()\n",
        "# Chuyển đổi dữ liệu thành đặc trưng (features) và kết quả (labels)\n",
        "print(data)\n",
        "features = []\n",
        "labels = []\n",
        "for day in data:\n",
        "    date = day[0].replace('-', '')\n",
        "    results = day[1]\n",
        "    for result in results:\n",
        "        if len(result) > 0:\n",
        "            features.append([float(result)])\n",
        "            labels.append([float(date)])\n",
        "\n",
        "features = np.array(features[::-1], dtype=np.float32)\n",
        "labels = np.array(labels[::-1], dtype=np.float32)\n",
        "results = []\n",
        "for number in range(1, 2):\n",
        "    print('Đang chạy tới: ', number)\n",
        "    with open(model_path, 'rb') as file:\n",
        "        model = pickle.load(file)\n",
        "    # Huấn luyện mô hình\n",
        "    model.fit(features, labels, epochs=10, batch_size=27)\n",
        "    #Lưu lại model đã huấn luyện\n",
        "    with open(model_path, 'wb') as file:\n",
        "        pickle.dump(model, file)\n",
        "    X_next_day = np.array([features[-1]])\n",
        "    y_predicted = model.predict(X_next_day)\n",
        "    # Chuyển đổi kết quả dự đoán thành kiểu nguyên\n",
        "    y_predicted = y_predicted.flatten().astype(int)\n",
        "    # Tạo kết quả dưới dạng mảng tương tự như dữ liệu đã cho\n",
        "    next_results = [str(num).zfill(5) for num in y_predicted]\n",
        "    for rs in next_results:\n",
        "        results.append(rs)\n",
        "        print(rs)\n",
        "# Thống kê kết quả\n",
        "new_results = []\n",
        "for result in results:\n",
        "    new_results.append(result[-2::])\n",
        "\n",
        "print(new_results)\n",
        "\n",
        "counts = {}\n",
        "for lottery in new_results:\n",
        "    if lottery in counts:\n",
        "        counts[lottery] += 1\n",
        "    else:\n",
        "        counts[lottery] = 1\n",
        "sortCounts = sorted(counts.items(), key=lambda x: x[1], reverse=True)\n",
        "# In kết quả dự đoán đầy đủ\n",
        "print([now.strftime(\"%Y-%m-%d\"), results])\n",
        "# In kết quả dự đoán lô tô\n",
        "print([now.strftime(\"%Y-%m-%d\"), new_results])\n",
        "# In kết quả dự đoán thống kê số lượng\n",
        "print([now.strftime(\"%Y-%m-%d\"), sortCounts])"
      ],
      "metadata": {
        "id": "LXnBxexRM5fE"
      },
      "execution_count": null,
      "outputs": []
    }
  ],
  "metadata": {
    "colab": {
      "provenance": [],
      "gpuType": "T4",
      "include_colab_link": true
    },
    "kernelspec": {
      "display_name": "Python 3",
      "name": "python3"
    },
    "accelerator": "GPU"
  },
  "nbformat": 4,
  "nbformat_minor": 0
}