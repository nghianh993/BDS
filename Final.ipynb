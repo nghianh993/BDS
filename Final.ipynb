{
  "cells": [
    {
      "cell_type": "markdown",
      "metadata": {
        "id": "view-in-github",
        "colab_type": "text"
      },
      "source": [
        "<a href=\"https://colab.research.google.com/github/nghianh993/BDS/blob/master/Final.ipynb\" target=\"_parent\"><img src=\"https://colab.research.google.com/assets/colab-badge.svg\" alt=\"Open In Colab\"/></a>"
      ]
    },
    {
      "cell_type": "code",
      "execution_count": null,
      "metadata": {
        "id": "19Unqzpz8rel",
        "colab": {
          "base_uri": "https://localhost:8080/"
        },
        "outputId": "60e06f0e-1e3b-4760-e904-846f381a19a6"
      },
      "outputs": [
        {
          "output_type": "stream",
          "name": "stdout",
          "text": [
          ]
        }
      ],
      "source": [
        "import requests\n",
        "import numpy as np\n",
        "import tensorflow as tf\n",
        "from datetime import datetime, timedelta\n",
        "from tensorflow.keras.models import Sequential\n",
        "from tensorflow.keras.layers import LSTM, Dense, Dropout\n",
        "from tensorflow.keras.callbacks import ModelCheckpoint\n",
        "from google.colab import drive\n",
        "\n",
        "drive.mount('/content/drive')\n",
        "\n",
        "# Get data\n",
        "url = \"https://rongbachkim.com\"\n",
        "now = datetime.now()\n",
        "data = []\n",
        "minusDay = 60\n",
        "next_date = now + timedelta(days=minusDay)\n",
        "totalCount = 4\n",
        "# File name\n",
        "current_file_name = '/content/drive/MyDrive/Model/AI_239days_20240306.h5'\n",
        "file_in_drive = '/content/drive/MyDrive/Model/AI_' + str((minusDay * totalCount - 1)) + 'days_' + now.strftime(\"%Y%m%d\") + '.h5'\n",
        "for number in range(1, totalCount):\n",
        "    if number == 1:\n",
        "        next_date = next_date - timedelta(days=minusDay + 1)\n",
        "    else:\n",
        "        next_date = next_date - timedelta(days=minusDay)\n",
        "    # Send an HTTP request to the API and receive JSON data\n",
        "    response = requests.get(url + '/ketqua.php?getkq&ngay=' + next_date.strftime(\"%Y-%m-%d\") + '&days='+ str(minusDay) +'&wday=0')\n",
        "    data = data + response.json()\n",
        "\n",
        "print(data)\n",
        "\n",
        "X_train = []\n",
        "y_train = []\n",
        "\n",
        "for i in range(len(data)-1):\n",
        "    current_day = list(map(float, data[i][1]))\n",
        "    next_day = list(map(float, data[i+1][1]))\n",
        "    X_train.append(current_day)\n",
        "    y_train.append(next_day)\n",
        "\n",
        "X_train = np.array(X_train)\n",
        "y_train = np.array(y_train)\n",
        "\n",
        "X_train = np.reshape(X_train, (X_train.shape[0], X_train.shape[1], 1))\n",
        "y_train = np.reshape(y_train, (y_train.shape[0], y_train.shape[1], 1))\n",
        "\n",
        "## Create and train the model\n",
        "#model = Sequential()\n",
        "#model.add(LSTM(units=128, return_sequences=True, input_shape=(X_train.shape[1], 1)))\n",
        "#model.add(Dropout(0.2))\n",
        "#model.add(LSTM(units=128, return_sequences=True))\n",
        "#model.add(Dropout(0.2))\n",
        "#model.add(LSTM(units=128))\n",
        "#model.add(Dense(units=1))\n",
        "\n",
        "model = tf.keras.models.load_model(current_file_name)\n",
        "\n",
        "model.compile(optimizer='adam', loss='mse')\n",
        "\n",
        "model.fit(X_train, y_train, epochs=300, batch_size=1)\n",
        "\n",
        "# Load the best saved model\n",
        "model.save(file_in_drive)\n",
        "\n",
        "last_day = list(map(float, data[0][1]))\n",
        "print(\"Dữ liệu data: \", data[0][1])\n",
        "\n",
        "X_test = np.array([last_day])  # Change here to create a single-element array\n",
        "X_test = np.reshape(X_test, (X_test.shape[0], X_test.shape[1], 1))  # Reshape the test data\n",
        "\n",
        "predictions = model.predict(X_test)\n",
        "predictions = np.array(predictions).reshape(predictions.shape[0], predictions.shape[1])  # Reshape predictions to match input format\n",
        "predictions = predictions.tolist()\n",
        "\n",
        "print(\"Kết quả dự đoán:\", predictions)"
      ]
    }
  ],
  "metadata": {
    "accelerator": "GPU",
    "colab": {
      "gpuType": "T4",
      "provenance": [],
      "authorship_tag": "ABX9TyMuEZTLS73TwzXCRLrh/wHh",
      "include_colab_link": true
    },
    "kernelspec": {
      "display_name": "Python 3",
      "name": "python3"
    },
    "language_info": {
      "name": "python"
    }
  },
  "nbformat": 4,
  "nbformat_minor": 0
}
